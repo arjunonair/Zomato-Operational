{
 "cells": [
  {
   "cell_type": "code",
   "execution_count": 0,
   "metadata": {
    "application/vnd.databricks.v1+cell": {
     "cellMetadata": {
      "byteLimit": 2048000,
      "rowLimit": 10000
     },
     "inputWidgets": {},
     "nuid": "04d41daa-07ab-417b-91d1-80a9bfdbff25",
     "showTitle": false,
     "title": ""
    }
   },
   "outputs": [],
   "source": [
    "from pyspark.sql import SparkSession\n",
    "\n",
    "spark = SparkSession.builder \\\n",
    "    .appName(\"NewSparkSession\") \\\n",
    "    .config(\"spark.sql.caseSensitive\", \"true\") \\\n",
    "    .getOrCreate()\n"
   ]
  },
  {
   "cell_type": "code",
   "execution_count": 0,
   "metadata": {
    "application/vnd.databricks.v1+cell": {
     "cellMetadata": {
      "byteLimit": 2048000,
      "rowLimit": 10000
     },
     "inputWidgets": {},
     "nuid": "b850bee3-5e44-4045-8c82-985286b33af5",
     "showTitle": false,
     "title": ""
    }
   },
   "outputs": [
    {
     "output_type": "display_data",
     "data": {
      "text/html": [
       "\n",
       "            <div>\n",
       "                <p><b>SparkSession - hive</b></p>\n",
       "                \n",
       "        <div>\n",
       "            <p><b>SparkContext</b></p>\n",
       "\n",
       "            <p><a href=\"/?o=1461134822671096#setting/sparkui/0926-121144-1ldegihg/driver-9054042377804272487\">Spark UI</a></p>\n",
       "\n",
       "            <dl>\n",
       "              <dt>Version</dt>\n",
       "                <dd><code>v3.3.2</code></dd>\n",
       "              <dt>Master</dt>\n",
       "                <dd><code>spark://10.139.64.4:7077</code></dd>\n",
       "              <dt>AppName</dt>\n",
       "                <dd><code>Databricks Shell</code></dd>\n",
       "            </dl>\n",
       "        </div>\n",
       "        \n",
       "            </div>\n",
       "        "
      ]
     },
     "metadata": {
      "application/vnd.databricks.v1+output": {
       "addedWidgets": {},
       "arguments": {},
       "data": "\n            <div>\n                <p><b>SparkSession - hive</b></p>\n                \n        <div>\n            <p><b>SparkContext</b></p>\n\n            <p><a href=\"/?o=1461134822671096#setting/sparkui/0926-121144-1ldegihg/driver-9054042377804272487\">Spark UI</a></p>\n\n            <dl>\n              <dt>Version</dt>\n                <dd><code>v3.3.2</code></dd>\n              <dt>Master</dt>\n                <dd><code>spark://10.139.64.4:7077</code></dd>\n              <dt>AppName</dt>\n                <dd><code>Databricks Shell</code></dd>\n            </dl>\n        </div>\n        \n            </div>\n        ",
       "datasetInfos": [],
       "metadata": {},
       "removedWidgets": [],
       "textData": null,
       "type": "htmlSandbox"
      }
     },
     "output_type": "display_data"
    }
   ],
   "source": [
    "spark"
   ]
  },
  {
   "cell_type": "code",
   "execution_count": 0,
   "metadata": {
    "application/vnd.databricks.v1+cell": {
     "cellMetadata": {
      "byteLimit": 2048000,
      "rowLimit": 10000
     },
     "inputWidgets": {},
     "nuid": "4c941335-bdd5-48d0-bb5a-9bf5b761a08f",
     "showTitle": false,
     "title": ""
    }
   },
   "outputs": [],
   "source": [
    "account_endpoint = \"https://azurecapstonecosmos.documents.azure.com:443/\"\n",
    "account_key = \"azure_account_key==\""
   ]
  },
  {
   "cell_type": "code",
   "execution_count": 0,
   "metadata": {
    "application/vnd.databricks.v1+cell": {
     "cellMetadata": {
      "byteLimit": 2048000,
      "rowLimit": 10000
     },
     "inputWidgets": {},
     "nuid": "22d098ac-70e5-47b1-af3b-037a33b94a39",
     "showTitle": false,
     "title": ""
    }
   },
   "outputs": [],
   "source": [
    "from pyspark.sql.types import *\n",
    "from pyspark.sql.functions import *"
   ]
  },
  {
   "cell_type": "markdown",
   "metadata": {
    "application/vnd.databricks.v1+cell": {
     "cellMetadata": {
      "byteLimit": 2048000,
      "rowLimit": 10000
     },
     "inputWidgets": {},
     "nuid": "694fb033-fccd-4033-b0f8-6512614047da",
     "showTitle": false,
     "title": ""
    }
   },
   "source": [
    "#### Data Loading"
   ]
  },
  {
   "cell_type": "code",
   "execution_count": 0,
   "metadata": {
    "application/vnd.databricks.v1+cell": {
     "cellMetadata": {
      "byteLimit": 2048000,
      "rowLimit": 10000
     },
     "inputWidgets": {},
     "nuid": "23956306-cfa0-4a96-9b26-6ad63b07bdaf",
     "showTitle": false,
     "title": ""
    }
   },
   "outputs": [],
   "source": [
    "rest_schema = StructType([\n",
    "    StructField(\"ID\", StringType(), nullable=False),\n",
    "    StructField(\"Restaurant_latitude\", DoubleType(), nullable=True),\n",
    "    StructField(\"Restaurant_longitude\", DoubleType(), nullable=True),\n",
    "    StructField(\"Order_Date\", StringType(), nullable=True),\n",
    "    StructField(\"Time_Orderd\", StringType(), nullable=True),\n",
    "    StructField(\"Time_Order_picked\", StringType(), nullable=True),\n",
    "    StructField(\"Type_of_order\", StringType(), nullable=True),\n",
    "    StructField(\"City\", StringType(), nullable=True)\n",
    "])"
   ]
  },
  {
   "cell_type": "code",
   "execution_count": 0,
   "metadata": {
    "application/vnd.databricks.v1+cell": {
     "cellMetadata": {
      "byteLimit": 2048000,
      "rowLimit": 10000
     },
     "inputWidgets": {},
     "nuid": "08b54fe3-7406-43df-8b78-96d886ee4132",
     "showTitle": false,
     "title": ""
    }
   },
   "outputs": [],
   "source": [
    "delevery_schema = StructType([\n",
    "    StructField(\"ID\", StringType(), True),\n",
    "    StructField(\"Delivery_person_ID\", StringType(), True),\n",
    "    StructField(\"Delivery_person_Age\", IntegerType(), True),\n",
    "    StructField(\"Delivery_person_Ratings\", DoubleType(), True),\n",
    "    StructField(\"Delivery_location_latitude\", DoubleType(), True),\n",
    "    StructField(\"Delivery_location_longitude\", DoubleType(), True),\n",
    "    StructField(\"Weather_conditions\", StringType(), True),\n",
    "    StructField(\"Road_traffic_density\", StringType(), True),\n",
    "    StructField(\"Vehicle_condition\", IntegerType(), True),\n",
    "    StructField(\"Type_of_vehicle\", StringType(), True),\n",
    "    StructField(\"multiple_deliveries\", IntegerType(), True),\n",
    "    StructField(\"Festival\", StringType(), True),\n",
    "    StructField(\"Time_taken (min)\", IntegerType(), True)\n",
    "])\n"
   ]
  },
  {
   "cell_type": "code",
   "execution_count": 0,
   "metadata": {
    "application/vnd.databricks.v1+cell": {
     "cellMetadata": {
      "byteLimit": 2048000,
      "rowLimit": 10000
     },
     "inputWidgets": {},
     "nuid": "7ef457ca-3503-4415-b3c3-72005f3f7697",
     "showTitle": false,
     "title": ""
    }
   },
   "outputs": [],
   "source": [
    "\n",
    "restaurant_schema = StructType([\n",
    "    StructField(\"Restaurant Name\", StringType(), True),\n",
    "    StructField(\"Dining Rating\", FloatType(), True),\n",
    "    StructField(\"Delivery Rating\", FloatType(), True),\n",
    "    StructField(\"Dining Votes\", IntegerType(), True),\n",
    "    StructField(\"Delivery Votes\", IntegerType(), True),\n",
    "    StructField(\"Cuisine \", StringType(), True),\n",
    "    StructField(\"Place Name\", StringType(), True),\n",
    "    StructField(\"City\", StringType(), True),\n",
    "    StructField(\"Item Name\", StringType(), True),\n",
    "    StructField(\"Best Seller\", StringType(), True),\n",
    "    StructField(\"Votes\", IntegerType(), True),\n",
    "    StructField(\"Prices\", FloatType(), True)\n",
    "])\n"
   ]
  },
  {
   "cell_type": "code",
   "execution_count": 0,
   "metadata": {
    "application/vnd.databricks.v1+cell": {
     "cellMetadata": {
      "byteLimit": 2048000,
      "rowLimit": 10000
     },
     "inputWidgets": {},
     "nuid": "25a34fb5-b70e-4ff2-a2c8-d6a94c7cf0af",
     "showTitle": false,
     "title": ""
    }
   },
   "outputs": [],
   "source": [
    "rest_df = spark.read.format(\"cosmos.oltp\")\\\n",
    "    .option(\"spark.cosmos.accountEndpoint\", account_endpoint) \\\n",
    "    .option(\"spark.cosmos.accountKey\", account_key) \\\n",
    "    .option(\"spark.cosmos.database\", \"Zomato\") \\\n",
    "    .option(\"spark.cosmos.container\", \"RestaurantDelevery\") \\\n",
    "    .schema(rest_schema) \\\n",
    "    .load()"
   ]
  },
  {
   "cell_type": "code",
   "execution_count": 0,
   "metadata": {
    "application/vnd.databricks.v1+cell": {
     "cellMetadata": {
      "byteLimit": 2048000,
      "rowLimit": 10000
     },
     "inputWidgets": {},
     "nuid": "df766036-19b2-4b2d-8d3b-85d06c6323ec",
     "showTitle": false,
     "title": ""
    }
   },
   "outputs": [],
   "source": [
    "restaurant_df = spark.read.format(\"cosmos.oltp\")\\\n",
    "    .option(\"spark.cosmos.accountEndpoint\", account_endpoint) \\\n",
    "    .option(\"spark.cosmos.accountKey\", account_key) \\\n",
    "    .option(\"spark.cosmos.database\", \"Zomato\") \\\n",
    "    .option(\"spark.cosmos.container\", \"Restaurant\") \\\n",
    "    .schema(restaurant_schema) \\\n",
    "    .load()\n"
   ]
  },
  {
   "cell_type": "code",
   "execution_count": 0,
   "metadata": {
    "application/vnd.databricks.v1+cell": {
     "cellMetadata": {
      "byteLimit": 2048000,
      "rowLimit": 10000
     },
     "inputWidgets": {},
     "nuid": "60fac0b7-2147-461e-81c6-07f68422c6f6",
     "showTitle": false,
     "title": ""
    }
   },
   "outputs": [],
   "source": [
    "delevery_part_df = spark.read.format(\"cosmos.oltp\") \\\n",
    "    .option(\"spark.cosmos.accountEndpoint\", account_endpoint) \\\n",
    "    .option(\"spark.cosmos.accountKey\", account_key) \\\n",
    "    .option(\"spark.cosmos.database\", \"Zomato\") \\\n",
    "    .option(\"spark.cosmos.container\", \"DeleveryPartners\") \\\n",
    "    .schema(delevery_schema) \\\n",
    "    .load()\n"
   ]
  },
  {
   "cell_type": "markdown",
   "metadata": {
    "application/vnd.databricks.v1+cell": {
     "cellMetadata": {},
     "inputWidgets": {},
     "nuid": "a03e562b-2848-4b10-bd54-c68628bd0243",
     "showTitle": false,
     "title": ""
    }
   },
   "source": [
    "#### Shape of the data"
   ]
  },
  {
   "cell_type": "code",
   "execution_count": 0,
   "metadata": {
    "application/vnd.databricks.v1+cell": {
     "cellMetadata": {
      "byteLimit": 2048000,
      "rowLimit": 10000
     },
     "inputWidgets": {},
     "nuid": "26087923-5219-48a6-aea3-800db3634dd1",
     "showTitle": false,
     "title": ""
    }
   },
   "outputs": [
    {
     "output_type": "stream",
     "name": "stdout",
     "output_type": "stream",
     "text": [
      "row :  59188  columns :  8\n"
     ]
    }
   ],
   "source": [
    "print(\"row : \",rest_df.count(),\" columns : \" ,len(rest_df.columns))"
   ]
  },
  {
   "cell_type": "code",
   "execution_count": 0,
   "metadata": {
    "application/vnd.databricks.v1+cell": {
     "cellMetadata": {
      "byteLimit": 2048000,
      "rowLimit": 10000
     },
     "inputWidgets": {},
     "nuid": "eb4dc249-8bdc-4ff8-96b3-fc8e2f51a5cc",
     "showTitle": false,
     "title": ""
    }
   },
   "outputs": [
    {
     "output_type": "stream",
     "name": "stdout",
     "output_type": "stream",
     "text": [
      "row :  55045  columns :  13\n"
     ]
    }
   ],
   "source": [
    "print(\"row : \",delevery_part_df.count(),\" columns : \" ,len(delevery_part_df.columns))"
   ]
  },
  {
   "cell_type": "code",
   "execution_count": 0,
   "metadata": {
    "application/vnd.databricks.v1+cell": {
     "cellMetadata": {
      "byteLimit": 2048000,
      "rowLimit": 10000
     },
     "inputWidgets": {},
     "nuid": "16cb8824-35d5-42c6-88c6-42ec963c6344",
     "showTitle": false,
     "title": ""
    }
   },
   "outputs": [
    {
     "output_type": "stream",
     "name": "stdout",
     "output_type": "stream",
     "text": [
      "row :  139783  columns :  12\n"
     ]
    }
   ],
   "source": [
    "print(\"row : \",restaurant_df.count(),\" columns : \" ,len(restaurant_df.columns))"
   ]
  },
  {
   "cell_type": "markdown",
   "metadata": {
    "application/vnd.databricks.v1+cell": {
     "cellMetadata": {
      "byteLimit": 2048000,
      "rowLimit": 10000
     },
     "inputWidgets": {},
     "nuid": "25a8a17b-fa61-432f-9403-12c2f262f00b",
     "showTitle": false,
     "title": ""
    }
   },
   "source": [
    "#### Caching the dataframes"
   ]
  },
  {
   "cell_type": "code",
   "execution_count": 0,
   "metadata": {
    "application/vnd.databricks.v1+cell": {
     "cellMetadata": {
      "byteLimit": 2048000,
      "rowLimit": 10000
     },
     "inputWidgets": {},
     "nuid": "4808a638-e6c0-4047-b639-923519adb91e",
     "showTitle": false,
     "title": ""
    }
   },
   "outputs": [],
   "source": [
    "rest_df = rest_df.cache()\n",
    "delevery_part_df = delevery_part_df.cache()\n",
    "restaurant_df = restaurant_df.cache()"
   ]
  },
  {
   "cell_type": "markdown",
   "metadata": {
    "application/vnd.databricks.v1+cell": {
     "cellMetadata": {
      "byteLimit": 2048000,
      "rowLimit": 10000
     },
     "inputWidgets": {},
     "nuid": "f628591d-3a85-462b-881b-44d7372668bb",
     "showTitle": false,
     "title": ""
    }
   },
   "source": [
    "#### Removing duplicates"
   ]
  },
  {
   "cell_type": "code",
   "execution_count": 0,
   "metadata": {
    "application/vnd.databricks.v1+cell": {
     "cellMetadata": {
      "byteLimit": 2048000,
      "rowLimit": 10000
     },
     "inputWidgets": {},
     "nuid": "0614870a-dbed-45ca-9a52-d0a619e8bf7e",
     "showTitle": false,
     "title": ""
    }
   },
   "outputs": [],
   "source": [
    "rest_df = rest_df.dropDuplicates()\n",
    "delevery_part_df = delevery_part_df.dropDuplicates()\n",
    "restaurant_df = restaurant_df.dropDuplicates()"
   ]
  },
  {
   "cell_type": "code",
   "execution_count": 0,
   "metadata": {
    "application/vnd.databricks.v1+cell": {
     "cellMetadata": {
      "byteLimit": 2048000,
      "rowLimit": 10000
     },
     "inputWidgets": {},
     "nuid": "459bd784-1cec-4cc1-92fa-52a738f113f2",
     "showTitle": false,
     "title": ""
    }
   },
   "outputs": [
    {
     "output_type": "stream",
     "name": "stdout",
     "output_type": "stream",
     "text": [
      "root\n |-- ID: string (nullable = true)\n |-- Delivery_person_ID: string (nullable = true)\n |-- Delivery_person_Age: integer (nullable = true)\n |-- Delivery_person_Ratings: double (nullable = true)\n |-- Delivery_location_latitude: double (nullable = true)\n |-- Delivery_location_longitude: double (nullable = true)\n |-- Weather_conditions: string (nullable = true)\n |-- Road_traffic_density: string (nullable = true)\n |-- Vehicle_condition: integer (nullable = true)\n |-- Type_of_vehicle: string (nullable = true)\n |-- multiple_deliveries: integer (nullable = true)\n |-- Festival: string (nullable = true)\n |-- Time_taken (min): integer (nullable = true)\n\n"
     ]
    }
   ],
   "source": [
    "delevery_part_df.printSchema()"
   ]
  },
  {
   "cell_type": "markdown",
   "metadata": {
    "application/vnd.databricks.v1+cell": {
     "cellMetadata": {
      "byteLimit": 2048000,
      "rowLimit": 10000
     },
     "inputWidgets": {},
     "nuid": "f7a7fde6-5bf5-4094-a955-8572ad3bb1f7",
     "showTitle": false,
     "title": ""
    }
   },
   "source": [
    "#### Joining data to form delevery_df"
   ]
  },
  {
   "cell_type": "code",
   "execution_count": 0,
   "metadata": {
    "application/vnd.databricks.v1+cell": {
     "cellMetadata": {
      "byteLimit": 2048000,
      "rowLimit": 10000
     },
     "inputWidgets": {},
     "nuid": "53f4161f-02dc-43e3-b629-b778e935522a",
     "showTitle": false,
     "title": ""
    }
   },
   "outputs": [],
   "source": [
    "delevery_df = rest_df.join(delevery_part_df, on='ID', how='inner')"
   ]
  },
  {
   "cell_type": "code",
   "execution_count": 0,
   "metadata": {
    "application/vnd.databricks.v1+cell": {
     "cellMetadata": {
      "byteLimit": 2048000,
      "rowLimit": 10000
     },
     "inputWidgets": {},
     "nuid": "2b61b9e2-f11f-46fe-8204-79824e35a372",
     "showTitle": false,
     "title": ""
    }
   },
   "outputs": [],
   "source": [
    "# delevery_df = delevery_df.filter((col('Delivery_location_latitude') > 1) & (col('Delivery_location_longitude') > 1) & (col('Restaurant_latitude') > 1)& (col('Restaurant_longitude') > 1))"
   ]
  },
  {
   "cell_type": "markdown",
   "metadata": {
    "application/vnd.databricks.v1+cell": {
     "cellMetadata": {},
     "inputWidgets": {},
     "nuid": "8be4ebe7-6fe0-4507-bb50-679ac5f28c9d",
     "showTitle": false,
     "title": ""
    }
   },
   "source": [
    "#### Calculating approximate distance from the latitude and longitude"
   ]
  },
  {
   "cell_type": "code",
   "execution_count": 0,
   "metadata": {
    "application/vnd.databricks.v1+cell": {
     "cellMetadata": {},
     "inputWidgets": {},
     "nuid": "2841fb31-4f6d-48bf-a6e4-66aa82412f38",
     "showTitle": false,
     "title": ""
    }
   },
   "outputs": [],
   "source": [
    "!pip install geopy"
   ]
  },
  {
   "cell_type": "code",
   "execution_count": 0,
   "metadata": {
    "application/vnd.databricks.v1+cell": {
     "cellMetadata": {
      "byteLimit": 2048000,
      "rowLimit": 10000
     },
     "inputWidgets": {},
     "nuid": "6930660d-a919-45c5-bd1d-1b1be738eabb",
     "showTitle": false,
     "title": ""
    }
   },
   "outputs": [],
   "source": [
    "from geopy.distance import geodesic\n",
    "# Simplified version of haversine formula.\n",
    "def spherical_distance(lat1, lon1, lat2, lon2):\n",
    "    location1 = (lat1, lon1)\n",
    "    location2 = (lat2, lon2)\n",
    "    return geodesic(location1, location2).kilometers\n",
    "\n",
    "spherical_distance_udf = udf(spherical_distance, DoubleType())\n"
   ]
  },
  {
   "cell_type": "code",
   "execution_count": 0,
   "metadata": {
    "application/vnd.databricks.v1+cell": {
     "cellMetadata": {
      "byteLimit": 2048000,
      "rowLimit": 10000
     },
     "inputWidgets": {},
     "nuid": "58f43205-c305-49bc-a4b4-4ba5782bd567",
     "showTitle": false,
     "title": ""
    }
   },
   "outputs": [],
   "source": [
    "delevery_df = delevery_df.withColumn('approx_distance', spherical_distance_udf(\n",
    "    'Delivery_location_latitude',\n",
    "    'Delivery_location_longitude',\n",
    "    'Restaurant_latitude',\n",
    "    'Restaurant_longitude'\n",
    "))"
   ]
  },
  {
   "cell_type": "code",
   "execution_count": 0,
   "metadata": {
    "application/vnd.databricks.v1+cell": {
     "cellMetadata": {
      "byteLimit": 2048000,
      "rowLimit": 10000
     },
     "collapsed": true,
     "inputWidgets": {},
     "nuid": "8963c4ad-66f2-4683-8ec0-ace544331b70",
     "showTitle": false,
     "title": ""
    }
   },
   "outputs": [
    {
     "output_type": "stream",
     "name": "stdout",
     "output_type": "stream",
     "text": [
      "+---------------+\n|approx_distance|\n+---------------+\n|      3.0985498|\n|      1.4880947|\n|       9.041264|\n|       9.074471|\n|       3.035833|\n|       3.059118|\n|       6.136051|\n|      1.5690347|\n|       16.63525|\n|       4.580299|\n|       9.162284|\n|       4.537508|\n|      7.5510554|\n|      16.694595|\n|      13.592609|\n|       7.647483|\n|      3.0145607|\n|      1.5549024|\n|      13.661188|\n|       6.118387|\n+---------------+\nonly showing top 20 rows\n\n"
     ]
    }
   ],
   "source": [
    "# delevery_df.select('approx_distance').show()"
   ]
  },
  {
   "cell_type": "markdown",
   "metadata": {
    "application/vnd.databricks.v1+cell": {
     "cellMetadata": {
      "byteLimit": 2048000,
      "rowLimit": 10000
     },
     "inputWidgets": {},
     "nuid": "2a15edb3-86d5-4dd1-932f-233443f50cf9",
     "showTitle": false,
     "title": ""
    }
   },
   "source": [
    "#### Filtering only metropolitan values"
   ]
  },
  {
   "cell_type": "code",
   "execution_count": 0,
   "metadata": {
    "application/vnd.databricks.v1+cell": {
     "cellMetadata": {
      "byteLimit": 2048000,
      "rowLimit": 10000
     },
     "inputWidgets": {},
     "nuid": "cd39f3ac-4e47-4745-aa92-b84eb7a33e45",
     "showTitle": false,
     "title": ""
    }
   },
   "outputs": [],
   "source": [
    "delevery_df = delevery_df.filter(col('City') == 'Metropolitian')"
   ]
  },
  {
   "cell_type": "code",
   "execution_count": 0,
   "metadata": {
    "application/vnd.databricks.v1+cell": {
     "cellMetadata": {
      "byteLimit": 2048000,
      "rowLimit": 10000
     },
     "inputWidgets": {},
     "nuid": "cab9121a-21e1-4869-b641-b8e7dd8d425d",
     "showTitle": false,
     "title": ""
    }
   },
   "outputs": [],
   "source": [
    "delevery_df = delevery_df.cache()"
   ]
  },
  {
   "cell_type": "code",
   "execution_count": 0,
   "metadata": {
    "application/vnd.databricks.v1+cell": {
     "cellMetadata": {
      "byteLimit": 2048000,
      "rowLimit": 10000
     },
     "collapsed": true,
     "inputWidgets": {},
     "nuid": "3744fa8f-d441-4807-8304-f4ca681f994e",
     "showTitle": false,
     "title": ""
    }
   },
   "outputs": [],
   "source": [
    "# from geopy.geocoders import Nominatim\n",
    "\n",
    "# def get_city(lat, lon):\n",
    "#     try:\n",
    "#         geolocator = Nominatim(user_agent=\"my_unique_app\")\n",
    "#         location = geolocator.reverse((lat, lon), exactly_one=True)\n",
    "#         if location:\n",
    "#             return location.raw.get('address', {}).get('city', None)\n",
    "#         return None\n",
    "#     except Exception as e:\n",
    "#         print(f\"Error: {e}\")\n",
    "#         return None\n"
   ]
  },
  {
   "cell_type": "code",
   "execution_count": 0,
   "metadata": {
    "application/vnd.databricks.v1+cell": {
     "cellMetadata": {
      "byteLimit": 2048000,
      "rowLimit": 10000
     },
     "collapsed": true,
     "inputWidgets": {},
     "nuid": "05ad8621-b70a-49e0-9ac7-025a79449fad",
     "showTitle": false,
     "title": ""
    }
   },
   "outputs": [],
   "source": [
    "# udf_city = udf(lambda lat, lon: get_city(lat, lon), StringType())\n",
    "\n",
    "# delevery_df = delevery_df.withColumn('CityName', udf_city(delevery_df.Restaurant_latitude, delevery_df.Restaurant_longitude))"
   ]
  },
  {
   "cell_type": "code",
   "execution_count": 0,
   "metadata": {
    "application/vnd.databricks.v1+cell": {
     "cellMetadata": {
      "byteLimit": 2048000,
      "rowLimit": 10000
     },
     "inputWidgets": {},
     "nuid": "e1537127-c8f3-492b-aabd-e60db8af6d58",
     "showTitle": false,
     "title": ""
    }
   },
   "outputs": [],
   "source": [
    "# delevery_df.select('CityName').distinct().show()"
   ]
  },
  {
   "cell_type": "code",
   "execution_count": 0,
   "metadata": {
    "application/vnd.databricks.v1+cell": {
     "cellMetadata": {
      "byteLimit": 2048000,
      "rowLimit": 10000
     },
     "inputWidgets": {},
     "nuid": "1afbaff8-046f-42af-9b9e-0e3e2bfa24df",
     "showTitle": false,
     "title": ""
    }
   },
   "outputs": [],
   "source": [
    "# delevery_df.count()"
   ]
  },
  {
   "cell_type": "code",
   "execution_count": 0,
   "metadata": {
    "application/vnd.databricks.v1+cell": {
     "cellMetadata": {
      "byteLimit": 2048000,
      "rowLimit": 10000
     },
     "collapsed": true,
     "inputWidgets": {},
     "nuid": "30feb29a-0476-4e5e-8f60-d9f0dfc136ae",
     "showTitle": false,
     "title": ""
    }
   },
   "outputs": [
    {
     "output_type": "stream",
     "name": "stdout",
     "output_type": "stream",
     "text": [
      "root\n |-- ID: string (nullable = false)\n |-- Restaurant_latitude: double (nullable = true)\n |-- Restaurant_longitude: double (nullable = true)\n |-- Order_Date: string (nullable = true)\n |-- Time_Orderd: string (nullable = true)\n |-- Time_Order_picked: string (nullable = true)\n |-- Type_of_order: string (nullable = true)\n |-- City: string (nullable = true)\n |-- Delivery_person_ID: string (nullable = true)\n |-- Delivery_person_Age: integer (nullable = true)\n |-- Delivery_person_Ratings: double (nullable = true)\n |-- Delivery_location_latitude: double (nullable = true)\n |-- Delivery_location_longitude: double (nullable = true)\n |-- Weather_conditions: string (nullable = true)\n |-- Road_traffic_density: string (nullable = true)\n |-- Vehicle_condition: integer (nullable = true)\n |-- Type_of_vehicle: string (nullable = true)\n |-- multiple_deliveries: integer (nullable = true)\n |-- Festival: string (nullable = true)\n |-- Time_taken (min): integer (nullable = true)\n |-- approx_distance: double (nullable = true)\n\n"
     ]
    }
   ],
   "source": [
    "delevery_df.printSchema()"
   ]
  },
  {
   "cell_type": "markdown",
   "metadata": {
    "application/vnd.databricks.v1+cell": {
     "cellMetadata": {},
     "inputWidgets": {},
     "nuid": "a65c4b64-6a64-4c55-86d8-eb15bb1909ab",
     "showTitle": false,
     "title": ""
    }
   },
   "source": [
    "#### Checking for null values"
   ]
  },
  {
   "cell_type": "code",
   "execution_count": 0,
   "metadata": {
    "application/vnd.databricks.v1+cell": {
     "cellMetadata": {
      "byteLimit": 2048000,
      "rowLimit": 10000
     },
     "inputWidgets": {},
     "nuid": "092e503b-c373-4bbf-a470-08f0fc12c614",
     "showTitle": false,
     "title": ""
    }
   },
   "outputs": [
    {
     "output_type": "stream",
     "name": "stdout",
     "output_type": "stream",
     "text": [
      "ID : 0\nRestaurant_latitude : 0\nRestaurant_longitude : 0\nOrder_Date : 0\nTime_Orderd : 1291\nTime_Order_picked : 0\nType_of_order : 0\nCity : 0\nDelivery_person_ID : 0\nDelivery_person_Age : 0\nDelivery_person_Ratings : 1437\nDelivery_location_latitude : 0\nDelivery_location_longitude : 0\nWeather_conditions : 476\nRoad_traffic_density : 464\nVehicle_condition : 0\nType_of_vehicle : 0\nmultiple_deliveries : 0\nFestival : 111\nTime_taken (min) : 0\napprox_distance : 0\n"
     ]
    }
   ],
   "source": [
    "for column in delevery_df.columns:\n",
    "    print(f\"{column} : {delevery_df.select(column).filter(isnull(col(column))).count()}\")"
   ]
  },
  {
   "cell_type": "code",
   "execution_count": 0,
   "metadata": {
    "application/vnd.databricks.v1+cell": {
     "cellMetadata": {
      "byteLimit": 2048000,
      "rowLimit": 10000
     },
     "inputWidgets": {},
     "nuid": "5dab5b43-1995-4d54-ab7b-fc71384d3822",
     "showTitle": false,
     "title": ""
    }
   },
   "outputs": [
    {
     "output_type": "stream",
     "name": "stdout",
     "output_type": "stream",
     "text": [
      "Restaurant Name : 0\nDining Rating : 26958\nDelivery Rating : 1244\nDining Votes : 0\nDelivery Votes : 0\nCuisine  : 0\nPlace Name : 0\nCity : 0\nItem Name : 0\nBest Seller : 0\nVotes : 0\nPrices : 0\n"
     ]
    }
   ],
   "source": [
    "for column in restaurant_df.columns:\n",
    "    print(f\"{column} : {restaurant_df.select(column).filter(col(column).isNull()).count()}\")"
   ]
  },
  {
   "cell_type": "code",
   "execution_count": 0,
   "metadata": {
    "application/vnd.databricks.v1+cell": {
     "cellMetadata": {},
     "inputWidgets": {},
     "nuid": "adbdc5fb-2e22-4547-805f-f80947409ed8",
     "showTitle": false,
     "title": ""
    }
   },
   "outputs": [],
   "source": [
    "delevery_df.select([count(when(isnan(col(column)), column)).alias(column) for column in delevery_df.columns]).show()"
   ]
  },
  {
   "cell_type": "code",
   "execution_count": 0,
   "metadata": {
    "application/vnd.databricks.v1+cell": {
     "cellMetadata": {
      "byteLimit": 2048000,
      "rowLimit": 10000
     },
     "inputWidgets": {},
     "nuid": "15332cc7-f2f9-41ca-81ee-faa080b95959",
     "showTitle": false,
     "title": ""
    }
   },
   "outputs": [
    {
     "output_type": "stream",
     "name": "stdout",
     "output_type": "stream",
     "text": [
      "+---------------+-------------+---------------+------------+--------------+--------+----------+----+---------+-----------+-----+------+\n|Restaurant Name|Dining Rating|Delivery Rating|Dining Votes|Delivery Votes|Cuisine |Place Name|City|Item Name|Best Seller|Votes|Prices|\n+---------------+-------------+---------------+------------+--------------+--------+----------+----+---------+-----------+-----+------+\n|              0|            0|              0|           0|             0|       0|         0|   0|        1|          0|    0|     0|\n+---------------+-------------+---------------+------------+--------------+--------+----------+----+---------+-----------+-----+------+\n\n"
     ]
    }
   ],
   "source": [
    "restaurant_df.select([count(when(isnan(col(column)), column)).alias(column) for column in restaurant_df.columns]).show()"
   ]
  },
  {
   "cell_type": "markdown",
   "metadata": {
    "application/vnd.databricks.v1+cell": {
     "cellMetadata": {
      "byteLimit": 2048000,
      "rowLimit": 10000
     },
     "inputWidgets": {},
     "nuid": "2ccc72ff-2b97-4b9c-8e6c-6ad56e552705",
     "showTitle": false,
     "title": ""
    }
   },
   "source": [
    "#### Replacing the null values by category method"
   ]
  },
  {
   "cell_type": "code",
   "execution_count": 0,
   "metadata": {
    "application/vnd.databricks.v1+cell": {
     "cellMetadata": {
      "byteLimit": 2048000,
      "rowLimit": 10000
     },
     "inputWidgets": {},
     "nuid": "039f4add-bb60-4c04-b74c-d09396a5a68d",
     "showTitle": false,
     "title": ""
    }
   },
   "outputs": [],
   "source": [
    "rate_dict = {row['Restaurant Name']: row['Delivery Rating'] for row in restaurant_df.groupBy(\"Restaurant Name\").agg(mean(\"Delivery Rating\").alias(\"Delivery Rating\")).collect()}\n",
    "\n",
    "def rate_select(restaurant_name):\n",
    "    return rate_dict.get(restaurant_name, None)"
   ]
  },
  {
   "cell_type": "code",
   "execution_count": 0,
   "metadata": {
    "application/vnd.databricks.v1+cell": {
     "cellMetadata": {
      "byteLimit": 2048000,
      "rowLimit": 10000
     },
     "inputWidgets": {},
     "nuid": "8f7734e1-7adc-46d7-8ac2-be4a38de2658",
     "showTitle": false,
     "title": ""
    }
   },
   "outputs": [],
   "source": [
    "rate_udf = udf(rate_select, DoubleType())\n",
    "\n",
    "restaurant_df = restaurant_df.withColumn(\n",
    "    \"Delivery Rating\",\n",
    "    when(col(\"Delivery Rating\").isNull(), rate_udf(col(\"Restaurant Name\")))\n",
    "    .otherwise(col(\"Delivery Rating\"))\n",
    ")"
   ]
  },
  {
   "cell_type": "code",
   "execution_count": 0,
   "metadata": {
    "application/vnd.databricks.v1+cell": {
     "cellMetadata": {
      "byteLimit": 2048000,
      "rowLimit": 10000
     },
     "inputWidgets": {},
     "nuid": "c8e171c9-e767-4924-9614-4675d53788d8",
     "showTitle": false,
     "title": ""
    }
   },
   "outputs": [],
   "source": [
    "rate_dict = {row['Type_of_order']: row['Delivery_person_Ratings'] for row in delevery_df.groupBy(\"Type_of_order\").agg(mode(\"Delivery_person_Ratings\").alias(\"Delivery_person_Ratings\")).collect()}\n",
    "\n",
    "def rate_select(order_type):\n",
    "    return rate_dict.get(order_type, None)"
   ]
  },
  {
   "cell_type": "code",
   "execution_count": 0,
   "metadata": {
    "application/vnd.databricks.v1+cell": {
     "cellMetadata": {
      "byteLimit": 2048000,
      "rowLimit": 10000
     },
     "inputWidgets": {},
     "nuid": "02f6d74b-194e-4ec7-9fab-b4b08857a73b",
     "showTitle": false,
     "title": ""
    }
   },
   "outputs": [],
   "source": [
    "rate_udf = udf(rate_select, DoubleType())\n",
    "\n",
    "delevery_df = delevery_df.withColumn(\n",
    "    \"Delivery_person_Ratings\",\n",
    "    when(isnan(col('Delivery_person_Ratings')), rate_udf(col(\"Type_of_order\")))\\\n",
    "    .otherwise(col(\"Delivery_person_Ratings\"))\n",
    ")"
   ]
  },
  {
   "cell_type": "code",
   "execution_count": 0,
   "metadata": {
    "application/vnd.databricks.v1+cell": {
     "cellMetadata": {
      "byteLimit": 2048000,
      "rowLimit": 10000
     },
     "inputWidgets": {},
     "nuid": "8cba8726-a194-4d8d-a2cd-b23315d28fc8",
     "showTitle": false,
     "title": ""
    }
   },
   "outputs": [],
   "source": [
    "age_dict = {row['Type_of_order']: row['Delivery_person_Age'] for row in delevery_df.groupBy(\"Type_of_order\").agg(floor(avg(\"Delivery_person_Age\")).alias(\"Delivery_person_Age\")).collect()}\n",
    "\n",
    "def age_select(order_type):\n",
    "    return age_dict.get(order_type, None)\n"
   ]
  },
  {
   "cell_type": "code",
   "execution_count": 0,
   "metadata": {
    "application/vnd.databricks.v1+cell": {
     "cellMetadata": {
      "byteLimit": 2048000,
      "rowLimit": 10000
     },
     "inputWidgets": {},
     "nuid": "b7c84c87-29f8-43ec-97d4-b9e0c8714be9",
     "showTitle": false,
     "title": ""
    }
   },
   "outputs": [],
   "source": [
    "age_udf = udf(age_select, IntegerType())\n",
    "\n",
    "delevery_df = delevery_df.withColumn(\n",
    "    \"Delivery_person_Age\",\n",
    "    when(isnan(col('Delivery_person_Age')) | isnull(col('Delivery_person_Age')) , age_udf(col(\"Type_of_order\")))\\\n",
    "    .otherwise(col(\"Delivery_person_Age\"))\n",
    ")"
   ]
  },
  {
   "cell_type": "code",
   "execution_count": 0,
   "metadata": {
    "application/vnd.databricks.v1+cell": {
     "cellMetadata": {
      "byteLimit": 2048000,
      "rowLimit": 10000
     },
     "inputWidgets": {},
     "nuid": "a503fa3f-736b-4d8b-b094-a13ad6d89637",
     "showTitle": false,
     "title": ""
    }
   },
   "outputs": [
    {
     "output_type": "stream",
     "name": "stdout",
     "output_type": "stream",
     "text": [
      "Out[39]: 0"
     ]
    }
   ],
   "source": [
    "delevery_df.filter(isnull(col('Delivery_person_Age'))).count()"
   ]
  },
  {
   "cell_type": "markdown",
   "metadata": {
    "application/vnd.databricks.v1+cell": {
     "cellMetadata": {},
     "inputWidgets": {},
     "nuid": "03493a4f-8df5-48eb-a758-eccbcc1c9f77",
     "showTitle": false,
     "title": ""
    }
   },
   "source": [
    "#### Replacing NaN "
   ]
  },
  {
   "cell_type": "code",
   "execution_count": 0,
   "metadata": {
    "application/vnd.databricks.v1+cell": {
     "cellMetadata": {
      "byteLimit": 2048000,
      "rowLimit": 10000
     },
     "inputWidgets": {},
     "nuid": "cd84c43a-c63e-465c-8368-8289b2110c13",
     "showTitle": false,
     "title": ""
    }
   },
   "outputs": [],
   "source": [
    "mode_multiple_dele = delevery_df.agg(mode('multiple_deliveries')).collect()[0][0]\n",
    "mode_mtraffic = delevery_df.agg(mode('Road_traffic_density')).collect()[0][0]\n",
    "avg_delevery_rate = delevery_df.select('Delivery_person_Ratings').agg(mean('Delivery_person_Ratings')).collect()[0][0]"
   ]
  },
  {
   "cell_type": "code",
   "execution_count": 0,
   "metadata": {
    "application/vnd.databricks.v1+cell": {
     "cellMetadata": {
      "byteLimit": 2048000,
      "rowLimit": 10000
     },
     "inputWidgets": {},
     "nuid": "62298b3e-b563-4bb3-9bd0-48a4b8ed1d1d",
     "showTitle": false,
     "title": ""
    }
   },
   "outputs": [],
   "source": [
    "mode_festival = delevery_df.agg(mode('Festival')).collect()[0][0]\n",
    "delevery_df = delevery_df.withColumn('Festival', when(isnan(col('Festival')), mode_festival).otherwise(col('Festival')))\n",
    "delevery_df = delevery_df.withColumn('Road_traffic_density', when(isnan(col('Road_traffic_density')), mode_mtraffic).otherwise(col('Road_traffic_density')))\n",
    "delevery_df = delevery_df.withColumn('multiple_deliveries', when(isnan(col('multiple_deliveries')), mode_mtraffic).otherwise(col('multiple_deliveries')))"
   ]
  },
  {
   "cell_type": "code",
   "execution_count": 0,
   "metadata": {
    "application/vnd.databricks.v1+cell": {
     "cellMetadata": {},
     "inputWidgets": {},
     "nuid": "2807179e-1529-4d86-83c7-751ff7b93b13",
     "showTitle": false,
     "title": ""
    }
   },
   "outputs": [],
   "source": [
    "avg_rating = delevery_df.agg(avg('Delivery_person_Ratings')).collect()[0][0]\n",
    "mode_traffic_density = delevery_df.agg(mode('Road_traffic_density')).collect()[0][0]"
   ]
  },
  {
   "cell_type": "code",
   "execution_count": 0,
   "metadata": {
    "application/vnd.databricks.v1+cell": {
     "cellMetadata": {},
     "inputWidgets": {},
     "nuid": "b62bb6d3-7d1f-4790-8874-a6b511283b7f",
     "showTitle": false,
     "title": ""
    }
   },
   "outputs": [],
   "source": [
    "delevery_df = delevery_df.withColumn('Delivery_person_Ratings', \n",
    "                                     when(isnan(col('Delivery_person_Ratings')) | col('Delivery_person_Ratings').isNull(), avg_rating)\n",
    "                                     .otherwise(col('Delivery_person_Ratings')))"
   ]
  },
  {
   "cell_type": "code",
   "execution_count": 0,
   "metadata": {
    "application/vnd.databricks.v1+cell": {
     "cellMetadata": {
      "byteLimit": 2048000,
      "rowLimit": 10000
     },
     "inputWidgets": {},
     "nuid": "48d8f404-cf48-4a38-9e7f-e39c1deccd7b",
     "showTitle": false,
     "title": ""
    }
   },
   "outputs": [],
   "source": [
    "avg_dining_rating  = restaurant_df.select('Dining Rating').agg(mean('Dining Rating')).collect()[0][0]"
   ]
  },
  {
   "cell_type": "code",
   "execution_count": 0,
   "metadata": {
    "application/vnd.databricks.v1+cell": {
     "cellMetadata": {
      "byteLimit": 2048000,
      "rowLimit": 10000
     },
     "inputWidgets": {},
     "nuid": "35ab470b-5b93-4dcb-80e0-f81d4cc1e7da",
     "showTitle": false,
     "title": ""
    }
   },
   "outputs": [],
   "source": [
    "restaurant_df = restaurant_df.fillna({'Dining Rating': avg_dining_rating})"
   ]
  },
  {
   "cell_type": "markdown",
   "metadata": {
    "application/vnd.databricks.v1+cell": {
     "cellMetadata": {
      "byteLimit": 2048000,
      "rowLimit": 10000
     },
     "inputWidgets": {},
     "nuid": "e1bfcd41-3eb6-448c-b18a-147c4de7b9ed",
     "showTitle": false,
     "title": ""
    }
   },
   "source": [
    "#### Converting the Decimal time to hh:mm"
   ]
  },
  {
   "cell_type": "code",
   "execution_count": 0,
   "metadata": {
    "application/vnd.databricks.v1+cell": {
     "cellMetadata": {
      "byteLimit": 2048000,
      "rowLimit": 10000
     },
     "inputWidgets": {},
     "nuid": "35dce174-30b3-4364-a82c-25cb9cbc654c",
     "showTitle": false,
     "title": ""
    }
   },
   "outputs": [],
   "source": [
    "def decimal_to_time(value):\n",
    "    try:\n",
    "        float_value = float(value)\n",
    "        if float_value > 1:\n",
    "            float_value = float_value % 1\n",
    "        \n",
    "        hours = int(float_value * 24)\n",
    "        minutes = int((float_value * 24 * 60) % 60)\n",
    "        \n",
    "        return f\"{hours:02d}:{minutes:02d}\"\n",
    "    \n",
    "    except (ValueError, TypeError):\n",
    "        return value\n",
    "\n",
    "decimal_to_time_udf = udf(decimal_to_time, StringType())"
   ]
  },
  {
   "cell_type": "code",
   "execution_count": 0,
   "metadata": {
    "application/vnd.databricks.v1+cell": {
     "cellMetadata": {
      "byteLimit": 2048000,
      "rowLimit": 10000
     },
     "inputWidgets": {},
     "nuid": "7819b936-0dc8-4b0d-b1a6-2912ad641d67",
     "showTitle": false,
     "title": ""
    }
   },
   "outputs": [],
   "source": [
    "delevery_df = delevery_df.withColumn(\n",
    "    \"Time_Orderd\",\n",
    "    when(col(\"Time_Orderd\") == \"NaN\", None)\n",
    "    .when(col(\"Time_Orderd\").rlike(\"^\\\\d+\\\\.\\\\d+$\"), decimal_to_time_udf(col(\"Time_Orderd\")))\n",
    "    .otherwise(col(\"Time_Orderd\"))\n",
    ")"
   ]
  },
  {
   "cell_type": "code",
   "execution_count": 0,
   "metadata": {
    "application/vnd.databricks.v1+cell": {
     "cellMetadata": {
      "byteLimit": 2048000,
      "rowLimit": 10000
     },
     "inputWidgets": {},
     "nuid": "87b3e3f4-c8a6-4aa1-af06-bc1d9cb72a4e",
     "showTitle": false,
     "title": ""
    }
   },
   "outputs": [],
   "source": [
    "delevery_df = delevery_df.withColumn(\n",
    "    \"Time_Order_picked\",\n",
    "    when(col(\"Time_Order_picked\") == \"NaN\", None)\n",
    "    .when(col(\"Time_Order_picked\").rlike(\"^\\\\d+\\\\.\\\\d+$\"), decimal_to_time_udf(col(\"Time_Order_picked\")))\n",
    "    .otherwise(col(\"Time_Order_picked\"))\n",
    ")"
   ]
  },
  {
   "cell_type": "markdown",
   "metadata": {
    "application/vnd.databricks.v1+cell": {
     "cellMetadata": {},
     "inputWidgets": {},
     "nuid": "82734ec3-9586-4595-9adf-cc3d83721664",
     "showTitle": false,
     "title": ""
    }
   },
   "source": [
    "#### Type Conversion of Date and Time"
   ]
  },
  {
   "cell_type": "code",
   "execution_count": 0,
   "metadata": {
    "application/vnd.databricks.v1+cell": {
     "cellMetadata": {
      "byteLimit": 2048000,
      "rowLimit": 10000
     },
     "inputWidgets": {},
     "nuid": "54c8c583-8bb1-4889-a3cb-c83c145cbb58",
     "showTitle": false,
     "title": ""
    }
   },
   "outputs": [],
   "source": [
    "delevery_df = delevery_df.withColumn('Order_Date', to_date(col('Order_Date'), 'dd-MM-yyyy'))"
   ]
  },
  {
   "cell_type": "code",
   "execution_count": 0,
   "metadata": {
    "application/vnd.databricks.v1+cell": {
     "cellMetadata": {
      "byteLimit": 2048000,
      "rowLimit": 10000
     },
     "inputWidgets": {},
     "nuid": "c22215e2-5b0c-44b9-8435-3b678f96ee1f",
     "showTitle": false,
     "title": ""
    }
   },
   "outputs": [],
   "source": [
    "delevery_df = delevery_df.withColumn(\"Time_Orderd\", date_format(to_timestamp(col(\"Time_Orderd\"), 'HH:mm'), 'HH:mm').alias(\"Time_Orderd\"))"
   ]
  },
  {
   "cell_type": "markdown",
   "metadata": {
    "application/vnd.databricks.v1+cell": {
     "cellMetadata": {
      "byteLimit": 2048000,
      "rowLimit": 10000
     },
     "inputWidgets": {},
     "nuid": "8e7ed7a3-58ef-4087-be85-b19c4d111514",
     "showTitle": false,
     "title": ""
    }
   },
   "source": [
    "#### Splitting The Order date and Time Ordered to new columns"
   ]
  },
  {
   "cell_type": "code",
   "execution_count": 0,
   "metadata": {
    "application/vnd.databricks.v1+cell": {
     "cellMetadata": {
      "byteLimit": 2048000,
      "rowLimit": 10000
     },
     "inputWidgets": {},
     "nuid": "647873d0-297d-4e52-b3ee-61ed9f80b042",
     "showTitle": false,
     "title": ""
    }
   },
   "outputs": [],
   "source": [
    "delevery_df = delevery_df.withColumn('Order_hour', hour('Time_Orderd'))\n",
    "delevery_df = delevery_df.withColumn('Order_day', dayofmonth('Order_Date'))\n",
    "delevery_df = delevery_df.withColumn('Order_month', month('Order_Date'))\n",
    "delevery_df = delevery_df.withColumn('Order_Week', dayofweek('Order_Date'))"
   ]
  },
  {
   "cell_type": "code",
   "execution_count": 0,
   "metadata": {
    "application/vnd.databricks.v1+cell": {
     "cellMetadata": {
      "byteLimit": 2048000,
      "rowLimit": 10000
     },
     "inputWidgets": {},
     "nuid": "7c0e699e-12b7-47cf-94c5-72864fb34651",
     "showTitle": false,
     "title": ""
    }
   },
   "outputs": [],
   "source": [
    "delevery_df = delevery_df.filter((col('Time_Orderd').isNotNull()))"
   ]
  },
  {
   "cell_type": "code",
   "execution_count": 0,
   "metadata": {
    "application/vnd.databricks.v1+cell": {
     "cellMetadata": {
      "byteLimit": 2048000,
      "rowLimit": 10000
     },
     "inputWidgets": {},
     "nuid": "d37b7a3a-1487-4f7c-8b36-2418d4356cd2",
     "showTitle": false,
     "title": ""
    }
   },
   "outputs": [
    {
     "output_type": "stream",
     "name": "stdout",
     "output_type": "stream",
     "text": [
      "root\n |-- ID: string (nullable = false)\n |-- Restaurant_latitude: double (nullable = true)\n |-- Restaurant_longitude: double (nullable = true)\n |-- Order_Date: date (nullable = true)\n |-- Time_Orderd: string (nullable = true)\n |-- Time_Order_picked: string (nullable = true)\n |-- Type_of_order: string (nullable = true)\n |-- City: string (nullable = true)\n |-- Delivery_person_ID: string (nullable = true)\n |-- Delivery_person_Age: double (nullable = true)\n |-- Delivery_person_Ratings: double (nullable = true)\n |-- Delivery_location_latitude: double (nullable = true)\n |-- Delivery_location_longitude: double (nullable = true)\n |-- Weather_conditions: string (nullable = true)\n |-- Road_traffic_density: string (nullable = true)\n |-- Vehicle_condition: integer (nullable = true)\n |-- Type_of_vehicle: string (nullable = true)\n |-- multiple_deliveries: integer (nullable = true)\n |-- Festival: string (nullable = true)\n |-- Time_taken (min): integer (nullable = true)\n |-- approx_distance: float (nullable = true)\n |-- Order_hour: integer (nullable = true)\n |-- Order_day: integer (nullable = true)\n |-- Order_month: integer (nullable = true)\n |-- Order_Week: integer (nullable = true)\n\n"
     ]
    }
   ],
   "source": [
    "delevery_df.printSchema()"
   ]
  },
  {
   "cell_type": "code",
   "execution_count": 0,
   "metadata": {
    "application/vnd.databricks.v1+cell": {
     "cellMetadata": {
      "byteLimit": 2048000,
      "rowLimit": 10000
     },
     "inputWidgets": {},
     "nuid": "51f3e673-80ac-4fbe-9a8a-4b2b58b2ecc6",
     "showTitle": false,
     "title": ""
    }
   },
   "outputs": [
    {
     "output_type": "stream",
     "name": "stdout",
     "output_type": "stream",
     "text": [
      "Out[53]: 32497"
     ]
    }
   ],
   "source": [
    "delevery_df.count()"
   ]
  },
  {
   "cell_type": "code",
   "execution_count": 0,
   "metadata": {
    "application/vnd.databricks.v1+cell": {
     "cellMetadata": {
      "byteLimit": 2048000,
      "rowLimit": 10000
     },
     "inputWidgets": {},
     "nuid": "887a39e1-2740-43d4-9d6c-ecf6a859c2ff",
     "showTitle": false,
     "title": ""
    }
   },
   "outputs": [
    {
     "output_type": "stream",
     "name": "stdout",
     "output_type": "stream",
     "text": [
      "Out[54]: 101524"
     ]
    }
   ],
   "source": [
    "restaurant_df.count()"
   ]
  },
  {
   "cell_type": "code",
   "execution_count": 0,
   "metadata": {
    "application/vnd.databricks.v1+cell": {
     "cellMetadata": {
      "byteLimit": 2048000,
      "rowLimit": 10000
     },
     "inputWidgets": {},
     "nuid": "b4b7d715-d9aa-49af-9e25-af880f01720c",
     "showTitle": false,
     "title": ""
    }
   },
   "outputs": [],
   "source": [
    "delevery_df = delevery_df.withColumnRenamed('Time_taken (min)', 'Time_taken')"
   ]
  },
  {
   "cell_type": "markdown",
   "metadata": {
    "application/vnd.databricks.v1+cell": {
     "cellMetadata": {
      "byteLimit": 2048000,
      "rowLimit": 10000
     },
     "inputWidgets": {},
     "nuid": "10c3917c-9141-4e3a-bcd2-c689eac9e6f1",
     "showTitle": false,
     "title": ""
    }
   },
   "source": [
    "#### Removing the space in Column names to avoid issues in the SQL"
   ]
  },
  {
   "cell_type": "code",
   "execution_count": 0,
   "metadata": {
    "application/vnd.databricks.v1+cell": {
     "cellMetadata": {
      "byteLimit": 2048000,
      "rowLimit": 10000
     },
     "inputWidgets": {},
     "nuid": "a24262df-8e69-4e5a-bd6a-5b71f490961a",
     "showTitle": false,
     "title": ""
    }
   },
   "outputs": [],
   "source": [
    "for field in restaurant_df.schema.fields:\n",
    "    restaurant_df = restaurant_df.withColumnRenamed(field.name, field.name.replace(\" \", \"_\"))"
   ]
  },
  {
   "cell_type": "markdown",
   "metadata": {
    "application/vnd.databricks.v1+cell": {
     "cellMetadata": {},
     "inputWidgets": {},
     "nuid": "61f04625-6ff7-4f95-91a8-f4e6692ccfda",
     "showTitle": false,
     "title": ""
    }
   },
   "source": [
    "#### Writing the file to the dbfs storage"
   ]
  },
  {
   "cell_type": "code",
   "execution_count": 0,
   "metadata": {
    "application/vnd.databricks.v1+cell": {
     "cellMetadata": {
      "byteLimit": 2048000,
      "rowLimit": 10000
     },
     "inputWidgets": {},
     "nuid": "01ad04c3-055a-4e84-ac67-7fdc1e0b2812",
     "showTitle": false,
     "title": ""
    }
   },
   "outputs": [],
   "source": [
    "write_delevery_df = delevery_df.repartition(1)\n",
    "\n",
    "dbfs_path = \"/Volumes/databricks28/default/delivery\"\n",
    "\n",
    "write_delevery_df.write.mode(\"overwrite\").parquet(dbfs_path)"
   ]
  },
  {
   "cell_type": "code",
   "execution_count": 0,
   "metadata": {
    "application/vnd.databricks.v1+cell": {
     "cellMetadata": {
      "byteLimit": 2048000,
      "rowLimit": 10000
     },
     "inputWidgets": {},
     "nuid": "fa8a8ad6-2349-4d02-a75a-f31f03e5c375",
     "showTitle": false,
     "title": ""
    }
   },
   "outputs": [],
   "source": [
    "write_restaurant_df = restaurant_df.repartition(1)\n",
    "\n",
    "dbfs_path = \"/Volumes/databricks28/default/restaurant\"\n",
    "\n",
    "write_restaurant_df.write.mode(\"overwrite\").parquet(dbfs_path)\n"
   ]
  },
  {
   "cell_type": "code",
   "execution_count": 0,
   "metadata": {
    "application/vnd.databricks.v1+cell": {
     "cellMetadata": {
      "byteLimit": 2048000,
      "rowLimit": 10000
     },
     "inputWidgets": {},
     "nuid": "6c900df9-bb77-45e3-9c8e-02e334474770",
     "showTitle": false,
     "title": ""
    }
   },
   "outputs": [
    {
     "output_type": "stream",
     "name": "stdout",
     "output_type": "stream",
     "text": [
      "Out[64]: [FileInfo(path='dbfs:/Volumes/databricks28/default/restaurant/_SUCCESS', name='_SUCCESS', size=0, modificationTime=1727950519000),\n FileInfo(path='dbfs:/Volumes/databricks28/default/restaurant/_committed_3957586234054945592', name='_committed_3957586234054945592', size=125, modificationTime=1727948937000),\n FileInfo(path='dbfs:/Volumes/databricks28/default/restaurant/_committed_8370579358370310129', name='_committed_8370579358370310129', size=237, modificationTime=1727950519000),\n FileInfo(path='dbfs:/Volumes/databricks28/default/restaurant/_started_3957586234054945592', name='_started_3957586234054945592', size=0, modificationTime=1727948937000),\n FileInfo(path='dbfs:/Volumes/databricks28/default/restaurant/_started_8370579358370310129', name='_started_8370579358370310129', size=0, modificationTime=1727950518000),\n FileInfo(path='dbfs:/Volumes/databricks28/default/restaurant/part-00000-tid-8370579358370310129-c7059c2a-598b-46dd-94a4-709f202ae419-14283-1.c000.snappy.parquet', name='part-00000-tid-8370579358370310129-c7059c2a-598b-46dd-94a4-709f202ae419-14283-1.c000.snappy.parquet', size=2251393, modificationTime=1727950519000)]"
     ]
    }
   ],
   "source": [
    "dbutils.fs.ls(\"/Volumes/databricks28/default/restaurant\")"
   ]
  },
  {
   "cell_type": "code",
   "execution_count": 0,
   "metadata": {
    "application/vnd.databricks.v1+cell": {
     "cellMetadata": {
      "byteLimit": 2048000,
      "rowLimit": 10000
     },
     "inputWidgets": {},
     "nuid": "75491b02-2c30-4c13-ac37-8aa26fd5d36c",
     "showTitle": false,
     "title": ""
    }
   },
   "outputs": [
    {
     "output_type": "stream",
     "name": "stdout",
     "output_type": "stream",
     "text": [
      "Out[63]: [FileInfo(path='dbfs:/Volumes/databricks28/default/delivery/_SUCCESS', name='_SUCCESS', size=0, modificationTime=1727950516000),\n FileInfo(path='dbfs:/Volumes/databricks28/default/delivery/_committed_327163005425335967', name='_committed_327163005425335967', size=236, modificationTime=1727950516000),\n FileInfo(path='dbfs:/Volumes/databricks28/default/delivery/_committed_9172083225396536082', name='_committed_9172083225396536082', size=125, modificationTime=1727948917000),\n FileInfo(path='dbfs:/Volumes/databricks28/default/delivery/_started_2183175902330022446', name='_started_2183175902330022446', size=0, modificationTime=1727948832000),\n FileInfo(path='dbfs:/Volumes/databricks28/default/delivery/_started_327163005425335967', name='_started_327163005425335967', size=0, modificationTime=1727950516000),\n FileInfo(path='dbfs:/Volumes/databricks28/default/delivery/_started_9172083225396536082', name='_started_9172083225396536082', size=0, modificationTime=1727948916000),\n FileInfo(path='dbfs:/Volumes/databricks28/default/delivery/part-00000-tid-327163005425335967-587c8f08-5921-4b36-9f38-c6fb7ac6b76e-14269-1.c000.snappy.parquet', name='part-00000-tid-327163005425335967-587c8f08-5921-4b36-9f38-c6fb7ac6b76e-14269-1.c000.snappy.parquet', size=844395, modificationTime=1727950516000)]"
     ]
    }
   ],
   "source": [
    "dbutils.fs.ls(\"/Volumes/databricks28/default/delivery\")"
   ]
  },
  {
   "cell_type": "code",
   "execution_count": 0,
   "metadata": {
    "application/vnd.databricks.v1+cell": {
     "cellMetadata": {
      "byteLimit": 2048000,
      "rowLimit": 10000
     },
     "inputWidgets": {},
     "nuid": "39da9772-472b-4944-8f4c-8a7e5aa21207",
     "showTitle": false,
     "title": ""
    }
   },
   "outputs": [],
   "source": [
    "\n",
    "# storage_account_name = \"azurestoragecapstone\"\n",
    "# storage_account_access_key = \"Agd7/xTV4lt0HyqFldJaXwKiq8kZC088kiGs+GWhhc/ZtAbPlbWabDFLrftHra3OeTOovCVjSXu7+AStC5rulA==\"\n",
    "# container_name = \"intermediate\"\n",
    "# delivery_path = \"\"\n",
    "\n",
    "# spark.conf.set(f\"fs.azure.account.key.{storage_account_name}.blob.core.windows.net\", storage_account_access_key)\n",
    "\n",
    "# df.write.format(\"parquet\") \\\n",
    "#     .mode(\"overwrite\") \\\n",
    "#     .save(f\"wasbs://{container_name}@{storage_account_name}.blob.core.windows.net/{delivery_path}\")\n"
   ]
  }
 ],
 "metadata": {
  "application/vnd.databricks.v1+notebook": {
   "dashboards": [],
   "environmentMetadata": null,
   "language": "python",
   "notebookMetadata": {
    "pythonIndentUnit": 4
   },
   "notebookName": "Zomato transformation",
   "widgets": {}
  }
 },
 "nbformat": 4,
 "nbformat_minor": 0
}
